{
 "cells": [
  {
   "cell_type": "code",
   "execution_count": 1,
   "metadata": {},
   "outputs": [],
   "source": [
    "from selenium import webdriver\n",
    "from selenium.webdriver.common.by import By\n",
    "import json\n",
    "\n",
    "\n",
    "leagues_url = \"https://oddspedia.com/api/v1/getLeagues?topLeaguesOnly=1&includeLeaguesWithoutMatches=1&sport=futebol&geoCode=BR&language=br\"\n",
    "\n",
    "driver = webdriver.Chrome()\n",
    "driver.get(leagues_url)\n",
    "leagues_list = json.loads(driver.find_element(By.TAG_NAME, 'pre').text)[\"data\"]\n",
    "driver.close()"
   ]
  },
  {
   "cell_type": "code",
   "execution_count": 2,
   "metadata": {},
   "outputs": [],
   "source": [
    "br_leagues_url = \"https://oddspedia.com/api/v1/getLeagues?topLeaguesOnly=0&includeLeaguesWithoutMatches=1&geoCode=BR&sport=futebol&category=brasil&startDate=2023-06-15T03%3A00%3A00Z&endDate=2023-06-16T02%3A59%3A59Z&language=br\"\n",
    "\n",
    "driver = webdriver.Chrome()\n",
    "driver.get(br_leagues_url)\n",
    "br_leagues_list = json.loads(driver.find_element(By.TAG_NAME, 'pre').text)[\"data\"]\n",
    "driver.close()"
   ]
  },
  {
   "cell_type": "code",
   "execution_count": null,
   "metadata": {},
   "outputs": [],
   "source": [
    "filter_championships = [\n",
    "    \"Brasileirão Série B\",\n",
    "    \"Campeonato Carioca A\", \"Campeonato Mineiro\", \n",
    "    \"Campeonato Gaúcho\", \"Paulista A1\", \n",
    "    \"Copa do Nordeste\", \"Copa Verde\",\n",
    "    \"Supercopa do Brasil\", \"Campeonato Baiano\"\n",
    "    ]"
   ]
  },
  {
   "cell_type": "code",
   "execution_count": 3,
   "metadata": {},
   "outputs": [],
   "source": [
    "for league in br_leagues_list:\n",
    "    if league[\"league_name\"] in filter_championships:\n",
    "        leagues_list.append(league.copy())"
   ]
  },
  {
   "cell_type": "code",
   "execution_count": null,
   "metadata": {},
   "outputs": [],
   "source": [
    "import json\n",
    "\n",
    "out = {}\n",
    "for i, league in enumerate(leagues_list):\n",
    "    out[league['league_name']] = {\n",
    "        \"category\": league[\"category_slug\"],\n",
    "        \"alias\": league[\"league_slug\"]\n",
    "    }\n",
    "\n",
    "with open(\"base_info/collected.json\", \"w+\") as file:\n",
    "    json.dump(out, file)"
   ]
  }
 ],
 "metadata": {
  "kernelspec": {
   "display_name": "venv",
   "language": "python",
   "name": "python3"
  },
  "language_info": {
   "codemirror_mode": {
    "name": "ipython",
    "version": 3
   },
   "file_extension": ".py",
   "mimetype": "text/x-python",
   "name": "python",
   "nbconvert_exporter": "python",
   "pygments_lexer": "ipython3",
   "version": "3.7.9"
  },
  "orig_nbformat": 4
 },
 "nbformat": 4,
 "nbformat_minor": 2
}
