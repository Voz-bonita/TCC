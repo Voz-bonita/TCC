{
 "cells": [
  {
   "cell_type": "code",
   "execution_count": 1,
   "metadata": {},
   "outputs": [],
   "source": [
    "from selenium import webdriver\n",
    "from selenium.webdriver.common.by import By\n",
    "import json\n",
    "\n",
    "\n",
    "leagues_url = \"https://oddspedia.com/api/v1/getLeagues?topLeaguesOnly=1&includeLeaguesWithoutMatches=1&sport=futebol&geoCode=BR&language=br\"\n",
    "\n",
    "driver = webdriver.Chrome()\n",
    "driver.get(leagues_url)\n",
    "leagues_list = json.loads(driver.find_element(By.TAG_NAME, 'pre').text)[\"data\"]\n",
    "driver.close()"
   ]
  },
  {
   "cell_type": "code",
   "execution_count": 2,
   "metadata": {},
   "outputs": [],
   "source": [
    "br_leagues_url = \"https://oddspedia.com/api/v1/getLeagues?topLeaguesOnly=0&includeLeaguesWithoutMatches=1&geoCode=BR&sport=futebol&category=brasil&startDate=2023-06-15T03%3A00%3A00Z&endDate=2023-06-16T02%3A59%3A59Z&language=br\"\n",
    "\n",
    "driver = webdriver.Chrome()\n",
    "driver.get(br_leagues_url)\n",
    "br_leagues_list = json.loads(driver.find_element(By.TAG_NAME, 'pre').text)[\"data\"]\n",
    "driver.close()"
   ]
  },
  {
   "cell_type": "code",
   "execution_count": 3,
   "metadata": {},
   "outputs": [],
   "source": [
    "br_leagues_list_minimal = []\n",
    "br_names = set()\n",
    "for league in br_leagues_list:\n",
    "    if \"sub\" in league[\"league_name\"].lower() or \"feminino\" in league[\"league_name\"].lower() or \"u20\" in league[\"league_name\"].lower():\n",
    "        continue\n",
    "\n",
    "    if len(league[\"league_name\"].split()[-1]) in [1, 2]:\n",
    "        if league[\"league_name\"].split()[-1].upper() in [\"A\", \"1\", \"A1\"] or league[\"league_name\"] == \"Brasilerão Série B\":\n",
    "            br_leagues_list_minimal.append(league.copy())\n",
    "            br_names.add(league[\"league_name\"])\n",
    "    else:\n",
    "        br_leagues_list_minimal.append(league.copy())"
   ]
  },
  {
   "cell_type": "code",
   "execution_count": 4,
   "metadata": {},
   "outputs": [],
   "source": [
    "from operator import itemgetter\n",
    "\n",
    "keep = []\n",
    "for i, league in enumerate(leagues_list):\n",
    "    if league[\"league_name\"] not in br_names:\n",
    "        keep.append(i)\n",
    "    \n",
    "leagues_list = list(itemgetter(*keep)(leagues_list))\n",
    "for league in br_leagues_list_minimal:\n",
    "    leagues_list.append(league)"
   ]
  },
  {
   "cell_type": "code",
   "execution_count": 5,
   "metadata": {},
   "outputs": [],
   "source": [
    "from datetime import datetime, timedelta\n",
    "import re\n",
    "\n",
    "\n",
    "def parse_time(dm, year, delta):\n",
    "    dm = dm.strip()\n",
    "    time_included = re.search(string=dm, pattern=\"\\d{2}:\\d{2}\")\n",
    "    year_included = re.search(string=dm, pattern=\"\\d{4}\")\n",
    "    day = re.search(string=dm, pattern=\"(?<!\\d)\\d{2}(?!\\d)\")\n",
    "    if time_included:\n",
    "        dm = \"\".join([char for i, char in enumerate(dm) if i not in range(*time_included.span())])\n",
    "        \n",
    "    if year_included:\n",
    "        year = year_included.group()\n",
    "    \n",
    "    month_to_number = {\n",
    "        'janeiro': 1,\n",
    "        'fevereiro': 2,\n",
    "        'março': 3,\n",
    "        'abril': 4,\n",
    "        'maio': 5,\n",
    "        'junho': 6,\n",
    "        'julho': 7,\n",
    "        'agosto': 8,\n",
    "        'setembro': 9,\n",
    "        'outubro': 10,\n",
    "        'novembro': 11,\n",
    "        'dezembro': 12\n",
    "    }\n",
    "    day, month = dm.split(\" de \")[:2]\n",
    "    month = month_to_number[month]\n",
    "    \n",
    "    corrected_dt = datetime.strptime(f\"{year}-{month}-{day.strip()}\", \"%Y-%m-%d\")\n",
    "    \n",
    "    corrected_dt += delta\n",
    "\n",
    "    return (corrected_dt).strftime(\"%Y-%m-%d\")"
   ]
  },
  {
   "cell_type": "code",
   "execution_count": 6,
   "metadata": {},
   "outputs": [],
   "source": [
    "cancelled = {}\n",
    "out = {}"
   ]
  },
  {
   "cell_type": "code",
   "execution_count": 10,
   "metadata": {},
   "outputs": [
    {
     "name": "stdout",
     "output_type": "stream",
     "text": [
      "Copa América 0 2019\n",
      "Copa América 0 2020\n",
      "Copa América 0 2021\n",
      "Copa América 0 2022\n",
      "Copa do Brasil 1 2019\n",
      "Copa do Brasil 1 2020\n",
      "Copa do Brasil 1 2021\n",
      "Copa do Brasil 1 2022\n",
      "CONMEBOL Libertadores 2 2019\n",
      "CONMEBOL Libertadores 2 2020\n",
      "CONMEBOL Libertadores 2 2021\n",
      "CONMEBOL Libertadores 2 2022\n",
      "Copa Sul-Americana 4 2019\n",
      "Copa Sul-Americana 4 2020\n",
      "Copa Sul-Americana 4 2021\n",
      "Copa Sul-Americana 4 2022\n",
      "Liga dos Campeões 5 2019\n",
      "Liga dos Campeões 5 2020\n",
      "Liga dos Campeões 5 2021\n",
      "Liga dos Campeões 5 2022\n",
      "Liga Europa 6 2019\n",
      "Liga Europa 6 2020\n",
      "Liga Europa 6 2021\n",
      "Liga Europa 6 2022\n",
      "Premier League 7 2019\n",
      "Premier League 7 2020\n",
      "Premier League 7 2021\n"
     ]
    },
    {
     "ename": "IndexError",
     "evalue": "",
     "output_type": "error",
     "traceback": [
      "\u001b[1;31m---------------------------------------------------------------------------\u001b[0m",
      "\u001b[1;31mIndexError\u001b[0m                                Traceback (most recent call last)",
      "\u001b[1;32m~\\AppData\\Local\\Temp\\ipykernel_16248\\186956885.py\u001b[0m in \u001b[0;36m<module>\u001b[1;34m\u001b[0m\n\u001b[0;32m     48\u001b[0m         \u001b[0mend_date\u001b[0m \u001b[1;33m=\u001b[0m \u001b[0mparse_time\u001b[0m\u001b[1;33m(\u001b[0m\u001b[0mend_date\u001b[0m\u001b[1;33m,\u001b[0m \u001b[0myear\u001b[0m\u001b[1;33m,\u001b[0m \u001b[0mtimedelta\u001b[0m\u001b[1;33m(\u001b[0m\u001b[0mdays\u001b[0m\u001b[1;33m=\u001b[0m\u001b[1;36m7\u001b[0m\u001b[1;33m)\u001b[0m\u001b[1;33m)\u001b[0m\u001b[1;33m\u001b[0m\u001b[1;33m\u001b[0m\u001b[0m\n\u001b[0;32m     49\u001b[0m         \u001b[1;32mif\u001b[0m \u001b[0mdatetime\u001b[0m\u001b[1;33m.\u001b[0m\u001b[0mstrptime\u001b[0m\u001b[1;33m(\u001b[0m\u001b[0mstart_date\u001b[0m\u001b[1;33m,\u001b[0m \u001b[1;34m\"%Y-%m-%d\"\u001b[0m\u001b[1;33m)\u001b[0m \u001b[1;33m>\u001b[0m \u001b[0mdatetime\u001b[0m\u001b[1;33m.\u001b[0m\u001b[0mstrptime\u001b[0m\u001b[1;33m(\u001b[0m\u001b[0mend_date\u001b[0m\u001b[1;33m,\u001b[0m \u001b[1;34m\"%Y-%m-%d\"\u001b[0m\u001b[1;33m)\u001b[0m\u001b[1;33m:\u001b[0m\u001b[1;33m\u001b[0m\u001b[1;33m\u001b[0m\u001b[0m\n\u001b[1;32m---> 50\u001b[1;33m             \u001b[1;32mraise\u001b[0m \u001b[0mIndexError\u001b[0m\u001b[1;33m\u001b[0m\u001b[1;33m\u001b[0m\u001b[0m\n\u001b[0m\u001b[0;32m     51\u001b[0m         out[league['league_name']][\"years\"][year] = {\n\u001b[0;32m     52\u001b[0m             \u001b[1;34m\"start_date\"\u001b[0m\u001b[1;33m:\u001b[0m \u001b[0mstart_date\u001b[0m\u001b[1;33m,\u001b[0m\u001b[1;33m\u001b[0m\u001b[1;33m\u001b[0m\u001b[0m\n",
      "\u001b[1;31mIndexError\u001b[0m: "
     ]
    }
   ],
   "source": [
    "import requests\n",
    "from bs4 import BeautifulSoup\n",
    "\n",
    "\n",
    "YEARS = range(2019, 2023)\n",
    "GOOGLE = \"https://www.google.com\"\n",
    "for i, league in enumerate(leagues_list):\n",
    "    out[league['league_name']] = {\n",
    "        \"category\": league[\"category_slug\"],\n",
    "        \"alias\": league[\"league_slug\"],\n",
    "        \"years\": {}\n",
    "    }\n",
    "    if league['league_name'] == \"Eurocopa\":\n",
    "        continue\n",
    "    for year in YEARS:\n",
    "        print(league['league_name'], i, year)\n",
    "        \n",
    "        response = requests.get(f\"{GOOGLE}/search?q={league['league_name'].replace(' ', '+').replace('ã', 'a')}+{year}+periodo\")\n",
    "        soup = BeautifulSoup(response.text)\n",
    "        \n",
    "        try:\n",
    "            dates_raw = soup.find(\"div\", {\"class\": \"BNeawe iBp4i AP7Wnd\"}).text\n",
    "        except AttributeError:\n",
    "            if league['league_name'] not in cancelled:\n",
    "                cancelled[league['league_name']] = {}\n",
    "            cancelled[league['league_name']][year] = \"Requer analise manual\"\n",
    "            continue\n",
    "\n",
    "        if dates_raw == \"Cancelado\":\n",
    "            if league['league_name'] not in cancelled:\n",
    "                cancelled[league['league_name']] = {}\n",
    "            cancelled[league['league_name']][year] = \"Cancelado\"\n",
    "            continue\n",
    "        \n",
    "        out[league['league_name']][year] = {}\n",
    "        if league['league_name'] == \"Supercopa do Brasil\":\n",
    "            date = dates_raw.split(\", \")[1]\n",
    "            start_date = date\n",
    "            end_date = date\n",
    "        elif league[\"league_name\"] == \"Copa Verde\" and year < 2022:\n",
    "            start_date, end_date = dates_raw.split(\" – \")\n",
    "            start_date = start_date\n",
    "            end_date = end_date\n",
    "        else:\n",
    "            start_date, end_date = dates_raw.split(\"De: \")[1].split(\" Até: \")\n",
    "        \n",
    "        start_date = parse_time(start_date, year, -timedelta(days=7))\n",
    "        end_date = parse_time(end_date, year, timedelta(days=7))\n",
    "        if datetime.strptime(start_date, \"%Y-%m-%d\") > datetime.strptime(end_date, \"%Y-%m-%d\"):\n",
    "            raise IndexError\n",
    "        out[league['league_name']][\"years\"][year] = {\n",
    "            \"start_date\": start_date,\n",
    "            \"end_date\": end_date\n",
    "        }"
   ]
  },
  {
   "cell_type": "code",
   "execution_count": 12,
   "metadata": {},
   "outputs": [
    {
     "data": {
      "text/plain": [
       "('2021-09-05', '2021-05-30')"
      ]
     },
     "execution_count": 12,
     "metadata": {},
     "output_type": "execute_result"
    }
   ],
   "source": [
    "start_date, end_date"
   ]
  },
  {
   "cell_type": "code",
   "execution_count": null,
   "metadata": {},
   "outputs": [],
   "source": [
    "import json\n",
    "\n",
    "with open(\"base_info/collected.json\", \"w+\") as file:\n",
    "    json.dump(out, file)\n",
    "\n",
    "with open(\"base_info/manual_collection.json\", \"w+\") as file:\n",
    "    json.dump(cancelled, file)"
   ]
  }
 ],
 "metadata": {
  "kernelspec": {
   "display_name": "venv",
   "language": "python",
   "name": "python3"
  },
  "language_info": {
   "codemirror_mode": {
    "name": "ipython",
    "version": 3
   },
   "file_extension": ".py",
   "mimetype": "text/x-python",
   "name": "python",
   "nbconvert_exporter": "python",
   "pygments_lexer": "ipython3",
   "version": "3.7.9"
  },
  "orig_nbformat": 4
 },
 "nbformat": 4,
 "nbformat_minor": 2
}
