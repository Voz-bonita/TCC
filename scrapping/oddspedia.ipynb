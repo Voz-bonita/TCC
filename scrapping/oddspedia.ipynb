{
 "cells": [
  {
   "cell_type": "code",
   "execution_count": 1,
   "metadata": {},
   "outputs": [],
   "source": [
    "from selenium import webdriver\n",
    "from selenium.webdriver.common.by import By\n",
    "from selenium.webdriver.chrome import options\n",
    "import selenium\n",
    "import json\n",
    "from datetime import datetime\n",
    "import time\n",
    "\n",
    "SERIE_A = \"https://oddspedia.com/br/futebol/brasil/brasileirao-serie-a\"\n",
    "SERIE_B = \"https://oddspedia.com/br/futebol/brasil/brasileirao-serie-b\"\n",
    "LIBERTADORES = \"https://oddspedia.com/br/futebol/america-do-sul/conmebol-libertadores\"\n",
    "API_BASE = \"https://oddspedia.com/api/v1/getMatchOdds?wettsteuer=0&geoCode=BR&bookmakerGeoCode=BR&bookmakerGeoState=&language=br\" \n",
    "# &matchid={matchid}&oddGroupID={odds_market}&inplay=0\n",
    "# odds_market = {1, 4}; 1 = h2h; 4 = over/under"
   ]
  },
  {
   "cell_type": "code",
   "execution_count": 2,
   "metadata": {},
   "outputs": [],
   "source": [
    "opt = options.Options()\n",
    "opt.add_argument(\"--start-maximized\")\n",
    "driver = webdriver.Chrome(options=opt)\n",
    "driver.minimize_window()"
   ]
  },
  {
   "cell_type": "code",
   "execution_count": 3,
   "metadata": {},
   "outputs": [],
   "source": [
    "driver.get(SERIE_A)\n",
    "games_all = {}"
   ]
  },
  {
   "cell_type": "code",
   "execution_count": 4,
   "metadata": {},
   "outputs": [],
   "source": [
    "year_selector = driver.find_element(By.XPATH, '//*[@id=\"__layout\"]/div/div[1]/div[2]/div[2]/div/div/main/div[1]/div[2]/button')\n",
    "year_selector.click()\n",
    "\n",
    "div2022 = driver.find_element(By.XPATH, '//*[@id=\"__layout\"]/div/div[1]/div[2]/div[2]/div/div/main/div[1]/div[2]/div/div[2]')\n",
    "div2022.click()\n",
    "\n",
    "time.sleep(1)\n",
    "\n",
    "weeks = (\n",
    "    driver.find_element(By.XPATH, '//*[@id=\"match-odds\"]/div/div[1]/div[1]/div')\n",
    "    ).find_elements(By.CSS_SELECTOR, \"*\")\n",
    "next_week_btn = driver.find_element(By.XPATH, '//*[@id=\"match-odds\"]/div/div[2]/button[2]')"
   ]
  },
  {
   "cell_type": "code",
   "execution_count": 5,
   "metadata": {},
   "outputs": [
    {
     "name": "stdout",
     "output_type": "stream",
     "text": [
      "SEMANA 32\n",
      "06 NOV - 12 NOV\n"
     ]
    }
   ],
   "source": [
    "def chunk_list(lst, n):\n",
    "    return [lst[i: i + n] for i in range(0, len(lst), n)]\n",
    "\n",
    "for week in weeks:\n",
    "    games_in_current_page = driver.find_elements(By.CLASS_NAME, \"match-url\")\n",
    "    scores_in_current_page = driver.find_elements(By.CLASS_NAME, \"match-score-result__score\")\n",
    "    teams_in_current_page = driver.find_elements(By.CLASS_NAME, \"match-team__name\")\n",
    "    week_visualized = driver.find_element(By.XPATH, '//*[@id=\"match-odds\"]/div/div[2]/div').text\n",
    "    for i, url in enumerate(games_in_current_page):\n",
    "        games_all[url.get_attribute(\"href\").split(\"=\")[1]] = {\n",
    "            \"home\": teams_in_current_page[i*2].text,\n",
    "            \"away\": teams_in_current_page[i*2 + 1].text,\n",
    "            \"home_score\": scores_in_current_page[i*2].text,\n",
    "            \"away_score\": scores_in_current_page[i*2 + 1].text,\n",
    "            \"week\": week_visualized\n",
    "        }\n",
    "            \n",
    "    try:\n",
    "        next_week_btn.click()\n",
    "    except selenium.common.exceptions.ElementClickInterceptedException:\n",
    "        pass\n",
    "\n",
    "print(week_visualized)"
   ]
  },
  {
   "cell_type": "code",
   "execution_count": 6,
   "metadata": {},
   "outputs": [],
   "source": [
    "def clean_odds(clean_data, full_odds, market):\n",
    "    if market == \"over/under\":\n",
    "        names = [\"over\", \"under\"]\n",
    "    elif market == \"spread\":\n",
    "        names = [\"home\", \"away\"]\n",
    "    elif market == \"exact\":\n",
    "        names = [\"odd\"]\n",
    "    \n",
    "    divisions = full_odds[market][\"periods\"][0][\"odds\"]\n",
    "    odds_all = [*divisions[\"alternative\"], *divisions[\"main\"]]\n",
    "    for odds_list_item in odds_all:\n",
    "        clean_data[match_id][market][odds_list_item[\"name\"]] = {}\n",
    "        for _id, odd in odds_list_item[\"odds\"].items():\n",
    "            clean_data[match_id][market][odds_list_item[\"name\"]][odd[\"bookie_name\"]] = {\n",
    "                n[i]: odd[f\"o{i+1}\"] for i, n in enumerate(names)\n",
    "            }\n",
    "\n",
    "    return\n",
    "\n",
    "market_index = {1: 0, 3: 2, 4: 1, 8: 7}\n",
    "clean_data = {}\n",
    "base_url = \"https://oddspedia.com/api/v1/getMatchOdds?wettsteuer=0&geoCode=BR&bookmakerGeoCode=BR&bookmakerGeoState=&matchId={match_id}&oddGroupId={odds_market}&inplay=0&language=br\".format\n",
    "for match_id in games_all:\n",
    "    match_odds = {}\n",
    "    clean_data[match_id] = {}\n",
    "    for market in market_index.keys():\n",
    "        ids = {1: \"h2h\", 3: \"spread\", 4: \"over/under\", 8: \"exact\"}\n",
    "        clean_data[match_id][ids[market]] = {}\n",
    "\n",
    "        driver.get(base_url(match_id = match_id, odds_market = market))\n",
    "        incomplete_data = json.loads(driver.find_element(By.TAG_NAME, 'pre').text)\n",
    "        \n",
    "        current_market_data = incomplete_data[\"data\"][\"prematch\"][market_index[market]]\n",
    "        match_odds[ids[market]] = current_market_data\n",
    "        \n",
    "\n",
    "    for odd in match_odds[\"h2h\"][\"periods\"][0][\"odds\"]:\n",
    "        clean_data[match_id][\"h2h\"][odd[\"bookie_name\"]] = {\n",
    "            \"home\": odd[\"o1\"],\n",
    "            \"draw\": odd[\"o2\"],\n",
    "            \"away\": odd[\"o3\"]\n",
    "        }\n",
    "\n",
    "    clean_odds(clean_data, match_odds, \"over/under\")\n",
    "    clean_odds(clean_data, match_odds, \"spread\")\n",
    "    clean_odds(clean_data, match_odds, \"exact\")\n",
    "\n",
    "    break"
   ]
  }
 ],
 "metadata": {
  "kernelspec": {
   "display_name": "Python 3",
   "language": "python",
   "name": "python3"
  },
  "language_info": {
   "codemirror_mode": {
    "name": "ipython",
    "version": 3
   },
   "file_extension": ".py",
   "mimetype": "text/x-python",
   "name": "python",
   "nbconvert_exporter": "python",
   "pygments_lexer": "ipython3",
   "version": "3.7.9"
  },
  "orig_nbformat": 4
 },
 "nbformat": 4,
 "nbformat_minor": 2
}
