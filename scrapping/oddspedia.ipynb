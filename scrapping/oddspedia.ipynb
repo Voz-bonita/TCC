{
 "cells": [
  {
   "cell_type": "code",
   "execution_count": 6,
   "metadata": {},
   "outputs": [],
   "source": [
    "from selenium import webdriver\n",
    "from selenium.webdriver.common.by import By\n",
    "from selenium.webdriver.chrome import options\n",
    "import selenium\n",
    "import json\n",
    "from datetime import datetime\n",
    "import time\n",
    "\n",
    "SERIE_A = \"https://oddspedia.com/br/futebol/brasil/brasileirao-serie-a\"\n",
    "SERIE_B = \"https://oddspedia.com/br/futebol/brasil/brasileirao-serie-b\"\n",
    "LIBERTADORES = \"https://oddspedia.com/br/futebol/america-do-sul/conmebol-libertadores\"\n",
    "API_BASE = \"https://oddspedia.com/api/v1/getMatchOdds?wettsteuer=0&geoCode=BR&bookmakerGeoCode=BR&bookmakerGeoState=&language=br\" \n",
    "# &matchid={matchid}&oddGroupID={odds_market}&inplay=0\n",
    "# odds_market = {1, 4}; 1 = h2h; 4 = over/under"
   ]
  },
  {
   "cell_type": "code",
   "execution_count": 7,
   "metadata": {},
   "outputs": [],
   "source": [
    "opt = options.Options()\n",
    "opt.add_argument(\"--start-maximized\")\n",
    "driver = webdriver.Chrome(options=opt)"
   ]
  },
  {
   "cell_type": "code",
   "execution_count": 8,
   "metadata": {},
   "outputs": [],
   "source": [
    "driver.get(SERIE_A)\n",
    "match_ids = []"
   ]
  },
  {
   "cell_type": "code",
   "execution_count": 9,
   "metadata": {},
   "outputs": [],
   "source": [
    "year_selector = driver.find_element(By.XPATH, '//*[@id=\"__layout\"]/div/div[1]/div[2]/div[2]/div/div/main/div[1]/div[2]/button')\n",
    "year_selector.click()\n",
    "\n",
    "div2022 = driver.find_element(By.XPATH, '//*[@id=\"__layout\"]/div/div[1]/div[2]/div[2]/div/div/main/div[1]/div[2]/div/div[2]')\n",
    "div2022.click()\n",
    "\n",
    "time.sleep(1)\n",
    "\n",
    "weeks = (\n",
    "    driver.find_element(By.XPATH, '//*[@id=\"match-odds\"]/div/div[1]/div[1]/div')\n",
    "    ).find_elements(By.CSS_SELECTOR, \"*\")\n",
    "next_week_btn = driver.find_element(By.XPATH, '//*[@id=\"match-odds\"]/div/div[2]/button[2]')"
   ]
  },
  {
   "cell_type": "code",
   "execution_count": 17,
   "metadata": {},
   "outputs": [
    {
     "name": "stdout",
     "output_type": "stream",
     "text": [
      "SEMANA 1\n",
      "03 ABR - 09 ABR\n",
      "SEMANA 2\n",
      "10 ABR - 16 ABR\n",
      "SEMANA 3\n",
      "17 ABR - 23 ABR\n",
      "SEMANA 4\n",
      "24 ABR - 30 ABR\n",
      "SEMANA 5\n",
      "01 MAI - 07 MAI\n",
      "SEMANA 6\n",
      "08 MAI - 14 MAI\n",
      "SEMANA 7\n",
      "15 MAI - 21 MAI\n",
      "SEMANA 8\n",
      "22 MAI - 28 MAI\n",
      "SEMANA 9\n",
      "29 MAI - 04 JUN\n",
      "SEMANA 10\n",
      "05 JUN - 11 JUN\n",
      "SEMANA 11\n",
      "12 JUN - 18 JUN\n",
      "SEMANA 12\n",
      "19 JUN - 25 JUN\n",
      "SEMANA 13\n",
      "26 JUN - 02 JUL\n",
      "SEMANA 14\n",
      "03 JUL - 09 JUL\n",
      "SEMANA 15\n",
      "10 JUL - 16 JUL\n",
      "SEMANA 16\n",
      "17 JUL - 23 JUL\n",
      "SEMANA 17\n",
      "24 JUL - 30 JUL\n",
      "SEMANA 18\n",
      "31 JUL - 06 AGO\n",
      "SEMANA 19\n",
      "07 AGO - 13 AGO\n",
      "SEMANA 20\n",
      "14 AGO - 20 AGO\n",
      "SEMANA 21\n",
      "21 AGO - 27 AGO\n",
      "SEMANA 22\n",
      "28 AGO - 03 SET\n",
      "SEMANA 23\n",
      "04 SET - 10 SET\n",
      "SEMANA 24\n",
      "11 SET - 17 SET\n",
      "SEMANA 25\n",
      "18 SET - 24 SET\n",
      "SEMANA 26\n",
      "25 SET - 01 OUT\n",
      "SEMANA 27\n",
      "02 OUT - 08 OUT\n",
      "SEMANA 28\n",
      "09 OUT - 15 OUT\n",
      "SEMANA 29\n",
      "16 OUT - 22 OUT\n",
      "SEMANA 30\n",
      "23 OUT - 29 OUT\n",
      "SEMANA 31\n",
      "30 OUT - 05 NOV\n",
      "SEMANA 32\n",
      "06 NOV - 12 NOV\n"
     ]
    }
   ],
   "source": [
    "for week in weeks:\n",
    "    print(driver.find_element(By.XPATH, '//*[@id=\"match-odds\"]/div/div[2]/div').text)\n",
    "    games_in_current_page = driver.find_elements(By.CLASS_NAME, \"match-url\")\n",
    "    for game in games_in_current_page:\n",
    "        match_ids.append(game.get_attribute(\"href\").split(\"=\")[1])\n",
    "    \n",
    "    try:\n",
    "        next_week_btn.click()\n",
    "    except selenium.common.exceptions.ElementClickInterceptedException:\n",
    "        pass"
   ]
  },
  {
   "cell_type": "code",
   "execution_count": 33,
   "metadata": {},
   "outputs": [],
   "source": [
    "clean_data = {}\n",
    "base_url = \"https://oddspedia.com/api/v1/getMatchOdds?wettsteuer=0&geoCode=BR&bookmakerGeoCode=BR&bookmakerGeoState=&matchId={match_id}&oddGroupId={odds_market}&inplay=0&language=br\".format\n",
    "for match_id in match_ids:\n",
    "    clean_data[match_id] = {}\n",
    "    for market in [1, 3, 4, 12]:\n",
    "        # ids {1: h2h, 3: spread, 4: over/under, 12: exact}\n",
    "        driver.get(base_url(match_id = match_id, odds_market = market))\n",
    "        match_odds = json.loads(driver.find_element(By.TAG_NAME, 'pre').text)\n",
    "        for data in match_odds[\"data\"][\"prematch\"]:\n",
    "            if data[\"id\"] == market:\n",
    "                market_name = data[\"name\"]\n",
    "                clean_data[match_id][market_name] = []\n",
    "                for period in data[\"periods\"]:\n",
    "                    if period[\"name\"] == \"Fim do Jogo\":\n",
    "                        for odd in data[\"periods\"][0][\"odds\"]:\n",
    "                            clean_data[match_id][market_name].append({\n",
    "                                \"SportsBook\": odd[\"bookie_name\"],\n",
    "                                \"odds_home\": odd[\"o1\"],\n",
    "                                \"odds_draw\": odd[\"o2\"],\n",
    "                                \"odds_away\": odd[\"o3\"],\n",
    "                            })\n",
    "                        break\n",
    "                break\n",
    "        break\n",
    "    break"
   ]
  },
  {
   "cell_type": "code",
   "execution_count": 32,
   "metadata": {},
   "outputs": [
    {
     "data": {
      "text/plain": [
       "{'Resultado final': 1,\n",
       " 'Total de Gols': 4,\n",
       " 'Handicap Asiático': 3,\n",
       " 'Ambas as Equipes Marcam': 11,\n",
       " 'Chance Dupla': 7,\n",
       " 'Empate Sem Aposta': 5,\n",
       " 'Primeira Equipe a Marcar': 12,\n",
       " 'Resultado Correto': 8,\n",
       " 'Handicap Europeu': 6,\n",
       " 'Handicap Asiático Cantos': 13,\n",
       " 'Handicap Asiático Cartões': 16,\n",
       " 'Total de cartões Mais/Menos': 19,\n",
       " 'Intervalo/Fim do Jogo': 9,\n",
       " 'Par ou Ímpar': 10,\n",
       " 'Próximo Golo': 30,\n",
       " 'Cantos par/ímpar': 18,\n",
       " 'Baliza Inviolada': 21,\n",
       " 'Para ganhar a zero': 23,\n",
       " 'Ganhar De Trás': 24,\n",
       " 'Para ganhar as duas metades': 25,\n",
       " 'Marcar em ambas as metades': 27}"
      ]
     },
     "execution_count": 32,
     "metadata": {},
     "output_type": "execute_result"
    }
   ],
   "source": [
    "a"
   ]
  }
 ],
 "metadata": {
  "kernelspec": {
   "display_name": "Python 3",
   "language": "python",
   "name": "python3"
  },
  "language_info": {
   "codemirror_mode": {
    "name": "ipython",
    "version": 3
   },
   "file_extension": ".py",
   "mimetype": "text/x-python",
   "name": "python",
   "nbconvert_exporter": "python",
   "pygments_lexer": "ipython3",
   "version": "3.7.9"
  },
  "orig_nbformat": 4
 },
 "nbformat": 4,
 "nbformat_minor": 2
}
