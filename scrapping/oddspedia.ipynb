{
 "cells": [
  {
   "cell_type": "code",
   "execution_count": 1,
   "metadata": {},
   "outputs": [],
   "source": [
    "from selenium import webdriver\n",
    "from selenium.webdriver.common.by import By\n",
    "from datetime import datetime\n",
    "\n",
    "SERIE_A = \"https://oddspedia.com/br/futebol/brasil/brasileirao-serie-a\"\n",
    "SERIE_B = \"https://oddspedia.com/br/futebol/brasil/brasileirao-serie-b\"\n",
    "LIBERTADORES = \"https://oddspedia.com/br/futebol/america-do-sul/conmebol-libertadores\"\n",
    "API_BASE = \"https://oddspedia.com/api/v1/getMatchOdds?wettsteuer=0&geoCode=BR&bookmakerGeoCode=BR&bookmakerGeoState=&language=br\" \n",
    "# &matchid={matchid}&oddGroupID={odds_market}&inplay=0\n",
    "# odds_market = {1, 4}; 1 = h2h; 4 = over/under"
   ]
  },
  {
   "cell_type": "code",
   "execution_count": 2,
   "metadata": {},
   "outputs": [],
   "source": [
    "driver = webdriver.Chrome()"
   ]
  },
  {
   "cell_type": "code",
   "execution_count": 3,
   "metadata": {},
   "outputs": [],
   "source": [
    "driver.get(SERIE_A)\n",
    "game_ids = []"
   ]
  },
  {
   "cell_type": "code",
   "execution_count": 5,
   "metadata": {},
   "outputs": [],
   "source": [
    "year_selector = driver.find_element(By.XPATH, '//*[@id=\"__layout\"]/div/div[1]/div[2]/div[2]/div/div/main/div[1]/div[2]/button')\n",
    "year_selector.click()\n",
    "\n",
    "div2022 = driver.find_element(By.XPATH, '//*[@id=\"__layout\"]/div/div[1]/div[2]/div[2]/div/div/main/div[1]/div[2]/div/div[2]')\n",
    "div2022.click()"
   ]
  },
  {
   "cell_type": "code",
   "execution_count": 9,
   "metadata": {},
   "outputs": [],
   "source": [
    "games = driver.find_elements(By.CLASS_NAME, \"match-url\")\n",
    "game_ids = [game.get_attribute(\"href\").split(\"=\")[1] for game in games]"
   ]
  }
 ],
 "metadata": {
  "kernelspec": {
   "display_name": "Python 3",
   "language": "python",
   "name": "python3"
  },
  "language_info": {
   "codemirror_mode": {
    "name": "ipython",
    "version": 3
   },
   "file_extension": ".py",
   "mimetype": "text/x-python",
   "name": "python",
   "nbconvert_exporter": "python",
   "pygments_lexer": "ipython3",
   "version": "3.7.9"
  },
  "orig_nbformat": 4
 },
 "nbformat": 4,
 "nbformat_minor": 2
}
