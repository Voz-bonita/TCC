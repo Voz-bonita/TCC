{
 "cells": [
  {
   "cell_type": "code",
   "execution_count": 1,
   "metadata": {},
   "outputs": [],
   "source": [
    "import requests\n",
    "import pandas as pd\n",
    "import numpy as np\n",
    "import os\n",
    "import json\n",
    "import datetime"
   ]
  },
  {
   "cell_type": "code",
   "execution_count": 2,
   "metadata": {},
   "outputs": [],
   "source": [
    "BETTING_SITES = [\"DraftKings NJ Sportsbook\", \"FanDuel NJ Sportsbook\", \"BetRivers NJ Sportsbook (1)\", \"BetMGM\", \"PointsBet\", \"bet365\", \"Caesars NJ Sportsbook\", \"UnibetNJ Sportsbook\", \"BetRivers NY Sportsbook\"]\n",
    "OUTCOMES = [\"Away\", \"Home\", \"Draw\"]\n",
    "\n",
    "NAMES_ZIP = zip(np.repeat(BETTING_SITES, len(OUTCOMES)), np.tile(OUTCOMES, len(BETTING_SITES)))\n",
    "NAMES_CONCAT = list(map(lambda x: f\"{x[0]} | {x[1]}\", NAMES_ZIP))\n",
    "NAMES_CONCAT.append(\"Away\")\n",
    "NAMES_CONCAT.append(\"Home\")\n",
    "NAMES_CONCAT.append(\"Outcome\")"
   ]
  },
  {
   "cell_type": "code",
   "execution_count": 3,
   "metadata": {},
   "outputs": [],
   "source": [
    "def request_info(date_Ymd):\n",
    "    url = f\"https://api.actionnetwork.com/web/v1/scoreboard/soccer?period=game&bookIds=15,30,76,75,123,69,68,972,71,247,79&date={date_Ymd}\"\n",
    "\n",
    "    headers = {\n",
    "        'User-Agent': 'Mozilla/5.0 (Windows NT 10.0; Win64; x64) AppleWebKit/537.36 (KHTML, like Gecko) Chrome/111.0.0.0 Safari/537.36',\n",
    "    }\n",
    "    \n",
    "    response = requests.get(url, headers=headers)\n",
    "    \n",
    "    return response.text\n",
    "today = datetime.datetime.now().strftime(\"%Y%m%d\")\n",
    "info = json.loads(request_info(today))"
   ]
  },
  {
   "cell_type": "code",
   "execution_count": 4,
   "metadata": {},
   "outputs": [],
   "source": [
    "odds_all = []\n",
    "for game in info[\"games\"]:\n",
    "    teams = [game[\"teams\"][0][\"full_name\"], game[\"teams\"][1][\"full_name\"]]\n",
    "    first_is_away = game[\"teams\"][0][\"id\"] == game[\"away_team_id\"]\n",
    "    if not first_is_away:\n",
    "        teams = list(reversed(teams))\n",
    "    \n",
    "    outcome = np.nan\n",
    "    if game[\"status\"] == \"complete\":\n",
    "        winner_id = game[\"winning_team_id\"]\n",
    "        if winner_id == game[\"away_team_id\"]:\n",
    "            outcome = 0\n",
    "        elif winner_id == None:\n",
    "            outcome = 1\n",
    "        else:\n",
    "            outcome = 2\n",
    "\n",
    "    odds = np.array([[odd[\"ml_away\"], odd[\"ml_home\"], odd[\"draw\"]] for odd in game[\"odds\"][2:]]).flatten()\n",
    "    odds = np.append(odds, [teams[0], teams[1], outcome])\n",
    "    odds_all.append(odds)\n"
   ]
  },
  {
   "cell_type": "code",
   "execution_count": 5,
   "metadata": {},
   "outputs": [],
   "source": [
    "df = pd.DataFrame(odds_all, columns=NAMES_CONCAT)\n",
    "SAVE_PATH = \"odds_data.csv\"\n",
    "\n",
    "if not os.path.isfile(SAVE_PATH):\n",
    "    line = \",\".join(NAMES_CONCAT) + \"\\n\"\n",
    "else:\n",
    "    line = \"\"\n",
    "\n",
    "with open(SAVE_PATH, \"a+\") as file:\n",
    "    file.write(line)\n",
    "\n",
    "df.to_csv(SAVE_PATH, mode=\"a\", index=False, header=False)"
   ]
  }
 ],
 "metadata": {
  "kernelspec": {
   "display_name": "venv",
   "language": "python",
   "name": "python3"
  },
  "language_info": {
   "codemirror_mode": {
    "name": "ipython",
    "version": 3
   },
   "file_extension": ".py",
   "mimetype": "text/x-python",
   "name": "python",
   "nbconvert_exporter": "python",
   "pygments_lexer": "ipython3",
   "version": "3.7.9"
  },
  "orig_nbformat": 4
 },
 "nbformat": 4,
 "nbformat_minor": 2
}
