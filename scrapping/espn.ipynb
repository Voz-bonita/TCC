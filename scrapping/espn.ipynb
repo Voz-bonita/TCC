{
 "cells": [
  {
   "cell_type": "code",
   "execution_count": 1,
   "metadata": {},
   "outputs": [],
   "source": [
    "import json\n",
    "import requests\n",
    "from bs4 import BeautifulSoup\n",
    "\n",
    "espn = \"https://www.espn.com.br/futebol/\"\n",
    "r = requests.get(\"https://www.espn.com.br/futebol/resultados/_/liga/CONMEBOL.LIBERTADORES/data/20221029\")\n",
    "soup = BeautifulSoup(r.text)\n",
    "resumes = soup.find_all(\"a\", {\"class\": \"button-alt sm\"})"
   ]
  },
  {
   "cell_type": "code",
   "execution_count": 2,
   "metadata": {},
   "outputs": [],
   "source": [
    "for script in soup.find_all(\"script\", {\"type\": None, \"src\": None}):\n",
    "    if script.text.startswith(\"window.espn.scoreboardData\"):\n",
    "        data = json.loads(script.text[30:-337])\n",
    "        break"
   ]
  }
 ],
 "metadata": {
  "kernelspec": {
   "display_name": "venv",
   "language": "python",
   "name": "python3"
  },
  "language_info": {
   "codemirror_mode": {
    "name": "ipython",
    "version": 3
   },
   "file_extension": ".py",
   "mimetype": "text/x-python",
   "name": "python",
   "nbconvert_exporter": "python",
   "pygments_lexer": "ipython3",
   "version": "3.7.9"
  },
  "orig_nbformat": 4
 },
 "nbformat": 4,
 "nbformat_minor": 2
}
