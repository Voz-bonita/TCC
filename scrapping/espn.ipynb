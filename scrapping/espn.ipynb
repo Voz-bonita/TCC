{
 "cells": [
  {
   "cell_type": "code",
   "execution_count": 66,
   "metadata": {},
   "outputs": [],
   "source": [
    "import json\n",
    "import requests\n",
    "from bs4 import BeautifulSoup\n",
    "from datetime import datetime, timedelta\n",
    "\n",
    "espn = \"https://www.espn.com.br/futebol/\"\n",
    "r = requests.get(\"https://www.espn.com.br/futebol/resultados/_/liga/CONMEBOL.LIBERTADORES/data/20221029\")\n",
    "soup = BeautifulSoup(r.text)\n",
    "resumes = soup.find_all(\"a\", {\"class\": \"button-alt sm\"})"
   ]
  },
  {
   "cell_type": "code",
   "execution_count": 67,
   "metadata": {},
   "outputs": [],
   "source": [
    "for script in soup.find_all(\"script\", {\"type\": None, \"src\": None}):\n",
    "    if script.text.startswith(\"window.espn.scoreboardData\"):\n",
    "        data = json.loads(script.text[30:-337])\n",
    "        break"
   ]
  },
  {
   "cell_type": "code",
   "execution_count": 76,
   "metadata": {},
   "outputs": [],
   "source": [
    "games = []\n",
    "for event in data[\"events\"]:\n",
    "    comp = event[\"competitions\"][0]\n",
    "    team0_ha = comp[\"competitors\"][0][\"homeAway\"]\n",
    "    team1_ha = comp[\"competitors\"][1][\"homeAway\"]\n",
    "    dtt_utf0 = datetime.strptime(comp[\"date\"], \"%Y-%m-%dT%H:%MZ\") + timedelta(hours=3)\n",
    "    \n",
    "    home, away = event[\"name\"].split(\" em \")\n",
    "    game = {\n",
    "        \"dtt\": datetime.strftime(dtt_utf0, \"%Y-%m-%dT%H:%M:%SZ\"),\n",
    "        team0_ha: comp[\"competitors\"][0][\"team\"][\"displayName\"],\n",
    "        team1_ha: comp[\"competitors\"][1][\"team\"][\"displayName\"],\n",
    "        f\"{team0_ha}score\": comp[\"competitors\"][0][\"score\"],\n",
    "        f\"{team1_ha}score\": comp[\"competitors\"][1][\"score\"],\n",
    "        \"stadium\": comp[\"venue\"][\"fullName\"],\n",
    "        \"country\": comp[\"venue\"][\"address\"][\"country\"],\n",
    "        \"city\": comp[\"venue\"][\"address\"][\"city\"],\n",
    "    }\n",
    "    games.append(game)"
   ]
  },
  {
   "cell_type": "code",
   "execution_count": 77,
   "metadata": {},
   "outputs": [
    {
     "data": {
      "text/plain": [
       "[{'dtt': '2022-10-29T23:00:00Z',\n",
       "  'home': 'Flamengo',\n",
       "  'away': 'Athletico-PR',\n",
       "  'homescore': '1',\n",
       "  'awayscore': '0',\n",
       "  'stadium': 'Estadio Banco Pichincha',\n",
       "  'country': 'Equador',\n",
       "  'city': 'Guayaquil'}]"
      ]
     },
     "execution_count": 77,
     "metadata": {},
     "output_type": "execute_result"
    }
   ],
   "source": [
    "games"
   ]
  }
 ],
 "metadata": {
  "kernelspec": {
   "display_name": "venv",
   "language": "python",
   "name": "python3"
  },
  "language_info": {
   "codemirror_mode": {
    "name": "ipython",
    "version": 3
   },
   "file_extension": ".py",
   "mimetype": "text/x-python",
   "name": "python",
   "nbconvert_exporter": "python",
   "pygments_lexer": "ipython3",
   "version": "3.7.9"
  },
  "orig_nbformat": 4
 },
 "nbformat": 4,
 "nbformat_minor": 2
}
