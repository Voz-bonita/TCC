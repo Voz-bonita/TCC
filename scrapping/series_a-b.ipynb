{
 "cells": [
  {
   "cell_type": "code",
   "execution_count": 3,
   "metadata": {},
   "outputs": [],
   "source": [
    "import requests\n",
    "from bs4 import BeautifulSoup\n",
    "from datetime import datetime\n",
    "import json\n",
    "\n",
    "\n",
    "def cbf_scrap(championship, ano):\n",
    "    cbf = \"https://www.cbf.com.br/futebol-brasileiro/competicoes/campeonato-brasileiro\"\n",
    "    \n",
    "    r = requests.get(f\"{cbf}-{championship}/{ano}\")\n",
    "    soup = BeautifulSoup(r.text)\n",
    "\n",
    "    slides = soup.find_all(\"div\", {\"class\": \"swiper-slide\"})\n",
    "    teams = soup.find_all(\"span\", {\"class\": \"time-sigla\"})\n",
    "    scores = soup.find_all(\"span\", {\"class\": \"bg-blue color-white label-2\"})\n",
    "    datetimes = soup.find_all(\"span\", {\"class\": \"partida-desc text-1 color-lightgray p-b-15 block uppercase text-center\"})\n",
    "    locations = soup.find_all(\"span\", {\"class\": \"partida-desc text-1 color-lightgray block uppercase text-center\"})\n",
    "    \n",
    "    games = []\n",
    "    for i, dtt in enumerate(datetimes):\n",
    "        hscore, ascore = scores[i].text.split()[0::2]\n",
    "        stadium, state = locations[i].text.split(\" - \")[:2]\n",
    "        game_info = {\n",
    "            \"dtt\": datetime.strptime(\"T\".join(dtt.text.split()[1:3]), \"%d/%m/%YT%H:%M\").strftime(\"%Y-%m-%dT%H:%M:%SZ\"),\n",
    "            \"home\": teams[i*2].text,\n",
    "            \"away\": teams[i*2 + 1].text,\n",
    "            \"hscore\": int(hscore),\n",
    "            \"ascore\": int(ascore),\n",
    "            \"stadium\": stadium.strip(),\n",
    "            \"state\": state.strip()\n",
    "        }\n",
    "        games.append(game_info)\n",
    "    return games"
   ]
  },
  {
   "cell_type": "code",
   "execution_count": 4,
   "metadata": {},
   "outputs": [],
   "source": [
    "data = {}\n",
    "championships = [\"serie-a\", \"serie-b\"]\n",
    "years = range(2020, 2023)\n",
    "\n",
    "for championship in championships:\n",
    "    data[championship] = {}\n",
    "    for year in years:\n",
    "        data[championship][year] = cbf_scrap(championship, year)\n",
    "        \n",
    "data"
   ]
  },
  {
   "cell_type": "code",
   "execution_count": null,
   "metadata": {},
   "outputs": [],
   "source": [
    "with open(\"cbf_data.json\", \"w+\") as file:\n",
    "    json.dump(data, file)"
   ]
  }
 ],
 "metadata": {
  "kernelspec": {
   "display_name": "venv",
   "language": "python",
   "name": "python3"
  },
  "language_info": {
   "codemirror_mode": {
    "name": "ipython",
    "version": 3
   },
   "file_extension": ".py",
   "mimetype": "text/x-python",
   "name": "python",
   "nbconvert_exporter": "python",
   "pygments_lexer": "ipython3",
   "version": "3.7.9"
  },
  "orig_nbformat": 4
 },
 "nbformat": 4,
 "nbformat_minor": 2
}
